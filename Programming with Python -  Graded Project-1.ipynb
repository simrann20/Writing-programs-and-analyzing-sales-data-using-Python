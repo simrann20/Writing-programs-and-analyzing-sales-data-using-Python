{
 "cells": [
  {
   "cell_type": "markdown",
   "id": "b1fd37bf",
   "metadata": {},
   "source": [
    "### PART - I"
   ]
  },
  {
   "cell_type": "markdown",
   "id": "18500681",
   "metadata": {},
   "source": [
    "Q1."
   ]
  },
  {
   "cell_type": "markdown",
   "id": "febb661b",
   "metadata": {},
   "source": [
    "a. Given the string 'great', use an appropriate index command that returns 'a'\n",
    "from the string. Given s = ‘great’. (0.5 point)\n",
    "Expected output: ‘a’"
   ]
  },
  {
   "cell_type": "code",
   "execution_count": 1,
   "id": "ee8bc55a",
   "metadata": {},
   "outputs": [
    {
     "name": "stdout",
     "output_type": "stream",
     "text": [
      "a\n"
     ]
    }
   ],
   "source": [
    "s='great'\n",
    "print(s[3])"
   ]
  },
  {
   "cell_type": "markdown",
   "id": "610a9be2",
   "metadata": {},
   "source": [
    "b. Write a program to find out the second smallest number in the list given\n",
    "below. (0.5 point)\n",
    "li=[32, 3, 5, 8, 33, 7] & Expected output: 5\n"
   ]
  },
  {
   "cell_type": "code",
   "execution_count": 2,
   "id": "247a250f",
   "metadata": {},
   "outputs": [
    {
     "name": "stdout",
     "output_type": "stream",
     "text": [
      "5\n"
     ]
    }
   ],
   "source": [
    "li = [32,3,5,8,33,7]\n",
    "li.sort()\n",
    "print(li[1])"
   ]
  },
  {
   "cell_type": "markdown",
   "id": "d946a202",
   "metadata": {},
   "source": [
    "c. Find out the unique values of the list given below. (0.5 point)\n",
    "mylist=[1,1,5,3,3,6,11,11] & Expected output: [1,5,3,6,11]"
   ]
  },
  {
   "cell_type": "code",
   "execution_count": 3,
   "id": "b8e005ab",
   "metadata": {},
   "outputs": [
    {
     "name": "stdout",
     "output_type": "stream",
     "text": [
      "[1, 5, 3, 6, 11]\n"
     ]
    }
   ],
   "source": [
    "mylist = [1,1,5,3,3,6,11,11]\n",
    "\n",
    "ans = []\n",
    "\n",
    "for element in mylist:\n",
    "    \n",
    "    if element not in ans:\n",
    "        ans.append(element)\n",
    "        \n",
    "print(ans)"
   ]
  },
  {
   "cell_type": "markdown",
   "id": "862c41ef",
   "metadata": {},
   "source": [
    "d. Write a program to print cube root of 216 using appropriate syntax. (0.5\n",
    "point)\n",
    "Expected output: 6"
   ]
  },
  {
   "cell_type": "code",
   "execution_count": 4,
   "id": "68170163",
   "metadata": {},
   "outputs": [
    {
     "name": "stdout",
     "output_type": "stream",
     "text": [
      "6\n"
     ]
    }
   ],
   "source": [
    "x=216\n",
    "ans= round(pow(x,1/3))\n",
    "print(ans)"
   ]
  },
  {
   "cell_type": "markdown",
   "id": "c2bf0ca2",
   "metadata": {},
   "source": [
    "Q2. Replace the value 'hello' in the below nested list with 'bye'. (1 point)\n",
    "\n",
    "a = [1, 2, [3, 4, 'hello']] & Expected output: [1, 2, [3, 4, 'bye']]"
   ]
  },
  {
   "cell_type": "code",
   "execution_count": 5,
   "id": "a728ea85",
   "metadata": {},
   "outputs": [
    {
     "name": "stdout",
     "output_type": "stream",
     "text": [
      "[1, 2, [3, 4, 'bye']]\n"
     ]
    }
   ],
   "source": [
    "a = [1, 2, [3, 4, 'hello']]\n",
    "a[2][2]='bye'\n",
    "print(a)"
   ]
  },
  {
   "cell_type": "markdown",
   "id": "927f649d",
   "metadata": {},
   "source": [
    "Q3. Given the below dictionary, write a program that returns [‘object0’]. (1 point)\n",
    "dict = {'a':9, 'b':(2,3,1), 'c':['object0','object1','object2']}\n",
    "Expected output: [‘object0’]"
   ]
  },
  {
   "cell_type": "code",
   "execution_count": 6,
   "id": "32f86ff3",
   "metadata": {},
   "outputs": [
    {
     "data": {
      "text/plain": [
       "'object0'"
      ]
     },
     "execution_count": 6,
     "metadata": {},
     "output_type": "execute_result"
    }
   ],
   "source": [
    "dict = {'a':9, 'b':(2,3,1), 'c':['object0','object1','object2']}\n",
    "dict['c'][0]"
   ]
  },
  {
   "cell_type": "markdown",
   "id": "5675f229",
   "metadata": {},
   "source": [
    "Q4. Write a program to calculate the area of a circle. The program should ask for an\n",
    "appropriate input and print the computed area. (2 points)\n",
    "\n",
    "a. Input text: Please enter the radius of the circle.\n",
    "\n",
    "b. If the user enters a value of 5. The output should be: The area of the circle\n",
    "is 78.54\n",
    "\n",
    "c. This program should indicate that the input is invalid if the user enters a\n",
    "character instead of a number as input. For instance if the user enters a\n",
    "value of ‘a’ instead of 5 in the previous example the program should\n",
    "prompt: Invalid input, please enter a number: _"
   ]
  },
  {
   "cell_type": "code",
   "execution_count": 7,
   "id": "087992b1",
   "metadata": {},
   "outputs": [
    {
     "name": "stdout",
     "output_type": "stream",
     "text": [
      "Please enter the radius of the circle5\n",
      "The area of the circle is 78.54\n"
     ]
    }
   ],
   "source": [
    "import math\n",
    "\n",
    "try:\n",
    "    radius=float(input(\"Please enter the radius of the circle\"))\n",
    "    area = math.pi*radius*radius\n",
    "    print(f\"The area of the circle is {round(area,2)}\")\n",
    "except ValueError:\n",
    "    print(\"Invalid input, please enter a number: _\")   "
   ]
  },
  {
   "cell_type": "markdown",
   "id": "df5e70a3",
   "metadata": {},
   "source": [
    "Q5. Write a program which will take two lists X & Y as input and it will return a list\n",
    "having all the odd numbers present in the two lists. (Note:- common elements\n",
    "can be repeated) (2 points)\n",
    "\n",
    "Input list: X=[1,2,3,4,5] & Y=[5,6,7,8,9]\n",
    "\n",
    "Expected Output: [1,3,5,5,7,9] or [1,3,5,7,9] both are accepted."
   ]
  },
  {
   "cell_type": "code",
   "execution_count": 28,
   "id": "3acc8439",
   "metadata": {},
   "outputs": [
    {
     "name": "stdout",
     "output_type": "stream",
     "text": [
      "X=1,2,3,4,5\n",
      "Y=5,6,7,8,9\n"
     ]
    },
    {
     "data": {
      "text/plain": [
       "[1, 3, 5, 5, 7, 9]"
      ]
     },
     "execution_count": 28,
     "metadata": {},
     "output_type": "execute_result"
    }
   ],
   "source": [
    "x = [int(x) for x in input(\"X=\").split(\",\")]\n",
    "y = [int(y) for y in input(\"Y=\").split(\",\")]\n",
    "output_li=[]\n",
    "def oddlist (x, y):\n",
    "    x.extend(y)\n",
    "    for val in x:\n",
    "        if (val%2!=0):\n",
    "            output_li.append(val)\n",
    "    return output_li\n",
    "\n",
    "oddlist(x,y)"
   ]
  },
  {
   "cell_type": "markdown",
   "id": "035476a4",
   "metadata": {},
   "source": [
    "Q6. Write a function that prints the integers from 1 to 15. But for multiples of three\n",
    "print \"GREAT\" instead of the number, and for the multiples of five print\n",
    "\"LEARNING\". For numbers which are multiples of both three and five print\n",
    "\"GREATLEARNING\". (2 points)"
   ]
  },
  {
   "cell_type": "code",
   "execution_count": 40,
   "id": "26cc31e9",
   "metadata": {},
   "outputs": [
    {
     "name": "stdout",
     "output_type": "stream",
     "text": [
      "1\n",
      "2\n",
      "GREAT\n",
      "4\n",
      "LEARNING\n",
      "GREAT\n",
      "7\n",
      "8\n",
      "GREAT\n",
      "LEARNING\n",
      "11\n",
      "GREAT\n",
      "13\n",
      "14\n",
      "GREATLEARNING\n"
     ]
    }
   ],
   "source": [
    "def printpattern():\n",
    "    \n",
    "    for num in range(1,16):\n",
    "        if(num%3==0 and num%5==0):\n",
    "            print(\"GREATLEARNING\")\n",
    "        elif(num%3==0):\n",
    "            print(\"GREAT\")\n",
    "        elif(num%5==0):\n",
    "            print(\"LEARNING\")\n",
    "        else:\n",
    "            print(num)\n",
    "        \n",
    "printpattern()"
   ]
  },
  {
   "cell_type": "markdown",
   "id": "13beba2e",
   "metadata": {},
   "source": [
    "### PART - II"
   ]
  },
  {
   "cell_type": "markdown",
   "id": "fc5b4eb4",
   "metadata": {},
   "source": [
    "Dataset: Online_sales.csv\n",
    "\n",
    "Domain: Retail\n",
    "\n",
    "Objective: Analyzing sales data to understand sales trend"
   ]
  },
  {
   "cell_type": "markdown",
   "id": "a7abc03c",
   "metadata": {},
   "source": [
    "1. Import necessary libraries and read the provided dataset (online_sales.csv) and\n",
    "check the top 5 and random 5 samples of the dataframe. (0.5 point)\n",
    "\n",
    "2. Check info of the dataframe and write your observations. Comment on data\n",
    "types and shape of the dataset. (0.5 point)\n",
    "\n",
    "3. Check for null values and report the percentage of null values of each column.\n",
    "And drop the rows having null values in it. (1 point)\n",
    "\n",
    "4. Check the statistical summary of the dataset. (Use inbuilt functions) (0.5 point)\n",
    "\n",
    "5. Drop the instances having quantity less than zero. (1 point) (Note:- refer to the\n",
    "‘Quantity’ feature)\n",
    "\n",
    "6. Check unique values of the country and report the name of the country that has\n",
    "the highest number of instances/rows. (0.5 point)\n",
    "\n",
    "7. Create a new column with the name as ‘sales’ having total sales. The total sales\n",
    "is defined as Quantity*UnitPrice. (1 point)\n",
    "\n",
    "8. Report the top 5 countries in terms of sales. (2 points)\n",
    "\n",
    "   a. Consider the size of sales.\n",
    "   \n",
    "   b. Consider the mean value of sales.\n",
    "   \n",
    "\n",
    "9. Report the top 5 products which bring the highest sales. Use StockCode for\n",
    "product information. (1 point)\n",
    "\n",
    "10. Convert the ‘InvoiceDate’ into a date format and report the month on which\n",
    "the maximum sales occur? (2 points)"
   ]
  },
  {
   "cell_type": "markdown",
   "id": "6cf715bd",
   "metadata": {},
   "source": [
    "Solutions to the above questions:"
   ]
  },
  {
   "cell_type": "code",
   "execution_count": 41,
   "id": "f26b0852",
   "metadata": {},
   "outputs": [],
   "source": [
    "import numpy as np\n",
    "import pandas as pd"
   ]
  },
  {
   "cell_type": "code",
   "execution_count": 44,
   "id": "9dab1ab2",
   "metadata": {},
   "outputs": [],
   "source": [
    "df=pd.read_csv(\"/Users/simrannarora/Downloads/online_sales.csv\")"
   ]
  },
  {
   "cell_type": "code",
   "execution_count": 45,
   "id": "b5b46050",
   "metadata": {},
   "outputs": [
    {
     "data": {
      "text/html": [
       "<div>\n",
       "<style scoped>\n",
       "    .dataframe tbody tr th:only-of-type {\n",
       "        vertical-align: middle;\n",
       "    }\n",
       "\n",
       "    .dataframe tbody tr th {\n",
       "        vertical-align: top;\n",
       "    }\n",
       "\n",
       "    .dataframe thead th {\n",
       "        text-align: right;\n",
       "    }\n",
       "</style>\n",
       "<table border=\"1\" class=\"dataframe\">\n",
       "  <thead>\n",
       "    <tr style=\"text-align: right;\">\n",
       "      <th></th>\n",
       "      <th>InvoiceNo</th>\n",
       "      <th>StockCode</th>\n",
       "      <th>Description</th>\n",
       "      <th>Quantity</th>\n",
       "      <th>InvoiceDate</th>\n",
       "      <th>UnitPrice</th>\n",
       "      <th>CustomerID</th>\n",
       "      <th>Country</th>\n",
       "    </tr>\n",
       "  </thead>\n",
       "  <tbody>\n",
       "    <tr>\n",
       "      <th>0</th>\n",
       "      <td>536365</td>\n",
       "      <td>85123A</td>\n",
       "      <td>WHITE HANGING HEART T-LIGHT HOLDER</td>\n",
       "      <td>6</td>\n",
       "      <td>12/1/10 8:26</td>\n",
       "      <td>2.55</td>\n",
       "      <td>17850.0</td>\n",
       "      <td>United Kingdom</td>\n",
       "    </tr>\n",
       "    <tr>\n",
       "      <th>1</th>\n",
       "      <td>536365</td>\n",
       "      <td>71053</td>\n",
       "      <td>WHITE METAL LANTERN</td>\n",
       "      <td>6</td>\n",
       "      <td>12/1/10 8:26</td>\n",
       "      <td>3.39</td>\n",
       "      <td>17850.0</td>\n",
       "      <td>United Kingdom</td>\n",
       "    </tr>\n",
       "    <tr>\n",
       "      <th>2</th>\n",
       "      <td>536365</td>\n",
       "      <td>84406B</td>\n",
       "      <td>CREAM CUPID HEARTS COAT HANGER</td>\n",
       "      <td>8</td>\n",
       "      <td>12/1/10 8:26</td>\n",
       "      <td>2.75</td>\n",
       "      <td>17850.0</td>\n",
       "      <td>United Kingdom</td>\n",
       "    </tr>\n",
       "    <tr>\n",
       "      <th>3</th>\n",
       "      <td>536365</td>\n",
       "      <td>84029G</td>\n",
       "      <td>KNITTED UNION FLAG HOT WATER BOTTLE</td>\n",
       "      <td>6</td>\n",
       "      <td>12/1/10 8:26</td>\n",
       "      <td>3.39</td>\n",
       "      <td>17850.0</td>\n",
       "      <td>United Kingdom</td>\n",
       "    </tr>\n",
       "    <tr>\n",
       "      <th>4</th>\n",
       "      <td>536365</td>\n",
       "      <td>84029E</td>\n",
       "      <td>RED WOOLLY HOTTIE WHITE HEART.</td>\n",
       "      <td>6</td>\n",
       "      <td>12/1/10 8:26</td>\n",
       "      <td>3.39</td>\n",
       "      <td>17850.0</td>\n",
       "      <td>United Kingdom</td>\n",
       "    </tr>\n",
       "  </tbody>\n",
       "</table>\n",
       "</div>"
      ],
      "text/plain": [
       "  InvoiceNo StockCode                          Description  Quantity  \\\n",
       "0    536365    85123A   WHITE HANGING HEART T-LIGHT HOLDER         6   \n",
       "1    536365     71053                  WHITE METAL LANTERN         6   \n",
       "2    536365    84406B       CREAM CUPID HEARTS COAT HANGER         8   \n",
       "3    536365    84029G  KNITTED UNION FLAG HOT WATER BOTTLE         6   \n",
       "4    536365    84029E       RED WOOLLY HOTTIE WHITE HEART.         6   \n",
       "\n",
       "    InvoiceDate  UnitPrice  CustomerID         Country  \n",
       "0  12/1/10 8:26       2.55     17850.0  United Kingdom  \n",
       "1  12/1/10 8:26       3.39     17850.0  United Kingdom  \n",
       "2  12/1/10 8:26       2.75     17850.0  United Kingdom  \n",
       "3  12/1/10 8:26       3.39     17850.0  United Kingdom  \n",
       "4  12/1/10 8:26       3.39     17850.0  United Kingdom  "
      ]
     },
     "execution_count": 45,
     "metadata": {},
     "output_type": "execute_result"
    }
   ],
   "source": [
    "df.head()"
   ]
  },
  {
   "cell_type": "code",
   "execution_count": 50,
   "id": "e7865ff9",
   "metadata": {},
   "outputs": [
    {
     "data": {
      "text/html": [
       "<div>\n",
       "<style scoped>\n",
       "    .dataframe tbody tr th:only-of-type {\n",
       "        vertical-align: middle;\n",
       "    }\n",
       "\n",
       "    .dataframe tbody tr th {\n",
       "        vertical-align: top;\n",
       "    }\n",
       "\n",
       "    .dataframe thead th {\n",
       "        text-align: right;\n",
       "    }\n",
       "</style>\n",
       "<table border=\"1\" class=\"dataframe\">\n",
       "  <thead>\n",
       "    <tr style=\"text-align: right;\">\n",
       "      <th></th>\n",
       "      <th>InvoiceNo</th>\n",
       "      <th>StockCode</th>\n",
       "      <th>Description</th>\n",
       "      <th>Quantity</th>\n",
       "      <th>InvoiceDate</th>\n",
       "      <th>UnitPrice</th>\n",
       "      <th>CustomerID</th>\n",
       "      <th>Country</th>\n",
       "    </tr>\n",
       "  </thead>\n",
       "  <tbody>\n",
       "    <tr>\n",
       "      <th>57753</th>\n",
       "      <td>541219</td>\n",
       "      <td>22834</td>\n",
       "      <td>HAND WARMER BABUSHKA DESIGN</td>\n",
       "      <td>6</td>\n",
       "      <td>1/14/11 14:06</td>\n",
       "      <td>1.63</td>\n",
       "      <td>NaN</td>\n",
       "      <td>United Kingdom</td>\n",
       "    </tr>\n",
       "    <tr>\n",
       "      <th>174028</th>\n",
       "      <td>551734</td>\n",
       "      <td>22951</td>\n",
       "      <td>60 CAKE CASES DOLLY GIRL DESIGN</td>\n",
       "      <td>24</td>\n",
       "      <td>5/4/11 10:15</td>\n",
       "      <td>0.55</td>\n",
       "      <td>18178.0</td>\n",
       "      <td>United Kingdom</td>\n",
       "    </tr>\n",
       "    <tr>\n",
       "      <th>105508</th>\n",
       "      <td>545227</td>\n",
       "      <td>22052</td>\n",
       "      <td>VINTAGE CARAVAN GIFT WRAP</td>\n",
       "      <td>25</td>\n",
       "      <td>3/1/11 9:35</td>\n",
       "      <td>0.42</td>\n",
       "      <td>12428.0</td>\n",
       "      <td>Finland</td>\n",
       "    </tr>\n",
       "    <tr>\n",
       "      <th>95398</th>\n",
       "      <td>544455</td>\n",
       "      <td>22625</td>\n",
       "      <td>RED KITCHEN SCALES</td>\n",
       "      <td>1</td>\n",
       "      <td>2/20/11 13:18</td>\n",
       "      <td>8.50</td>\n",
       "      <td>13097.0</td>\n",
       "      <td>United Kingdom</td>\n",
       "    </tr>\n",
       "    <tr>\n",
       "      <th>88381</th>\n",
       "      <td>543802</td>\n",
       "      <td>21754</td>\n",
       "      <td>HOME BUILDING BLOCK WORD</td>\n",
       "      <td>8</td>\n",
       "      <td>2/13/11 12:03</td>\n",
       "      <td>5.95</td>\n",
       "      <td>13742.0</td>\n",
       "      <td>United Kingdom</td>\n",
       "    </tr>\n",
       "  </tbody>\n",
       "</table>\n",
       "</div>"
      ],
      "text/plain": [
       "       InvoiceNo StockCode                      Description  Quantity  \\\n",
       "57753     541219     22834      HAND WARMER BABUSHKA DESIGN         6   \n",
       "174028    551734     22951  60 CAKE CASES DOLLY GIRL DESIGN        24   \n",
       "105508    545227     22052        VINTAGE CARAVAN GIFT WRAP        25   \n",
       "95398     544455     22625               RED KITCHEN SCALES         1   \n",
       "88381     543802     21754         HOME BUILDING BLOCK WORD         8   \n",
       "\n",
       "          InvoiceDate  UnitPrice  CustomerID         Country  \n",
       "57753   1/14/11 14:06       1.63         NaN  United Kingdom  \n",
       "174028   5/4/11 10:15       0.55     18178.0  United Kingdom  \n",
       "105508    3/1/11 9:35       0.42     12428.0         Finland  \n",
       "95398   2/20/11 13:18       8.50     13097.0  United Kingdom  \n",
       "88381   2/13/11 12:03       5.95     13742.0  United Kingdom  "
      ]
     },
     "execution_count": 50,
     "metadata": {},
     "output_type": "execute_result"
    }
   ],
   "source": [
    "df.sample(n=5)"
   ]
  },
  {
   "cell_type": "code",
   "execution_count": 51,
   "id": "f96f7901",
   "metadata": {},
   "outputs": [
    {
     "name": "stdout",
     "output_type": "stream",
     "text": [
      "<class 'pandas.core.frame.DataFrame'>\n",
      "RangeIndex: 240007 entries, 0 to 240006\n",
      "Data columns (total 8 columns):\n",
      " #   Column       Non-Null Count   Dtype  \n",
      "---  ------       --------------   -----  \n",
      " 0   InvoiceNo    240007 non-null  object \n",
      " 1   StockCode    240007 non-null  object \n",
      " 2   Description  239106 non-null  object \n",
      " 3   Quantity     240007 non-null  int64  \n",
      " 4   InvoiceDate  240007 non-null  object \n",
      " 5   UnitPrice    240007 non-null  float64\n",
      " 6   CustomerID   172782 non-null  float64\n",
      " 7   Country      240007 non-null  object \n",
      "dtypes: float64(2), int64(1), object(5)\n",
      "memory usage: 14.6+ MB\n"
     ]
    }
   ],
   "source": [
    "df.info()"
   ]
  },
  {
   "cell_type": "markdown",
   "id": "6d8678f8",
   "metadata": {},
   "source": [
    "Observations - \n",
    "\n",
    "- The class of the above dataframe is 'pandas.core.frame.DataFrame'.\n",
    "- There are total 240007 entries with indexes ranging from 0 to 240006.\n",
    "- There are total 8 columns in this dataset.\n",
    "- The number of columns along with column name is listed in the above table. The Non-Null Count here shows the number   of non-null values in each column along with the datatype of each column.\n",
    "- Dtypes show all the data types that are there in the dataset and the number of columns having that particular       datatype ( float64(2), int64(1), object(5)).\n",
    "- Memory usage shows the memory space that is taken by the dataset ( 14.6 MB)"
   ]
  },
  {
   "cell_type": "code",
   "execution_count": 53,
   "id": "838c8fb7",
   "metadata": {},
   "outputs": [
    {
     "data": {
      "text/plain": [
       "InvoiceNo       object\n",
       "StockCode       object\n",
       "Description     object\n",
       "Quantity         int64\n",
       "InvoiceDate     object\n",
       "UnitPrice      float64\n",
       "CustomerID     float64\n",
       "Country         object\n",
       "dtype: object"
      ]
     },
     "execution_count": 53,
     "metadata": {},
     "output_type": "execute_result"
    }
   ],
   "source": [
    "df.dtypes"
   ]
  },
  {
   "cell_type": "markdown",
   "id": "54f1d5cb",
   "metadata": {},
   "source": [
    "The datatypes of this dataset are:\n",
    "- float64 - 2 columns\n",
    "- int64 - 1 column\n",
    "- object - 5 columns"
   ]
  },
  {
   "cell_type": "code",
   "execution_count": 54,
   "id": "0e3d1623",
   "metadata": {},
   "outputs": [
    {
     "data": {
      "text/plain": [
       "(240007, 8)"
      ]
     },
     "execution_count": 54,
     "metadata": {},
     "output_type": "execute_result"
    }
   ],
   "source": [
    "df.shape"
   ]
  },
  {
   "cell_type": "markdown",
   "id": "976cf158",
   "metadata": {},
   "source": [
    "The shape of the dataframe is represented in tuple format where 240007 are the no. of rows and 8 are the no. of columns in the dataset"
   ]
  },
  {
   "cell_type": "code",
   "execution_count": 56,
   "id": "ab517fe4",
   "metadata": {},
   "outputs": [
    {
     "data": {
      "text/plain": [
       "InvoiceNo          0\n",
       "StockCode          0\n",
       "Description      901\n",
       "Quantity           0\n",
       "InvoiceDate        0\n",
       "UnitPrice          0\n",
       "CustomerID     67225\n",
       "Country            0\n",
       "dtype: int64"
      ]
     },
     "execution_count": 56,
     "metadata": {},
     "output_type": "execute_result"
    }
   ],
   "source": [
    "df.isnull().sum()"
   ]
  },
  {
   "cell_type": "code",
   "execution_count": 57,
   "id": "16a17ce9",
   "metadata": {},
   "outputs": [
    {
     "name": "stdout",
     "output_type": "stream",
     "text": [
      "68126\n"
     ]
    }
   ],
   "source": [
    "print(df.isnull().values.sum()) # This is the no. of missing values"
   ]
  },
  {
   "cell_type": "code",
   "execution_count": 60,
   "id": "bf7bb89d",
   "metadata": {},
   "outputs": [
    {
     "data": {
      "text/plain": [
       "InvoiceNo       0.000000\n",
       "StockCode       0.000000\n",
       "Description     0.375406\n",
       "Quantity        0.000000\n",
       "InvoiceDate     0.000000\n",
       "UnitPrice       0.000000\n",
       "CustomerID     28.009600\n",
       "Country         0.000000\n",
       "dtype: float64"
      ]
     },
     "execution_count": 60,
     "metadata": {},
     "output_type": "execute_result"
    }
   ],
   "source": [
    "df.isnull().mean()*100"
   ]
  },
  {
   "cell_type": "code",
   "execution_count": 64,
   "id": "d1ba20af",
   "metadata": {},
   "outputs": [],
   "source": [
    "df=df.dropna()"
   ]
  },
  {
   "cell_type": "code",
   "execution_count": 65,
   "id": "49fe9672",
   "metadata": {},
   "outputs": [
    {
     "data": {
      "text/plain": [
       "InvoiceNo      0\n",
       "StockCode      0\n",
       "Description    0\n",
       "Quantity       0\n",
       "InvoiceDate    0\n",
       "UnitPrice      0\n",
       "CustomerID     0\n",
       "Country        0\n",
       "dtype: int64"
      ]
     },
     "execution_count": 65,
     "metadata": {},
     "output_type": "execute_result"
    }
   ],
   "source": [
    "df.isnull().sum()"
   ]
  },
  {
   "cell_type": "code",
   "execution_count": 66,
   "id": "e7b8259b",
   "metadata": {},
   "outputs": [
    {
     "data": {
      "text/html": [
       "<div>\n",
       "<style scoped>\n",
       "    .dataframe tbody tr th:only-of-type {\n",
       "        vertical-align: middle;\n",
       "    }\n",
       "\n",
       "    .dataframe tbody tr th {\n",
       "        vertical-align: top;\n",
       "    }\n",
       "\n",
       "    .dataframe thead th {\n",
       "        text-align: right;\n",
       "    }\n",
       "</style>\n",
       "<table border=\"1\" class=\"dataframe\">\n",
       "  <thead>\n",
       "    <tr style=\"text-align: right;\">\n",
       "      <th></th>\n",
       "      <th>Quantity</th>\n",
       "      <th>UnitPrice</th>\n",
       "      <th>CustomerID</th>\n",
       "    </tr>\n",
       "  </thead>\n",
       "  <tbody>\n",
       "    <tr>\n",
       "      <th>count</th>\n",
       "      <td>172782.000000</td>\n",
       "      <td>172782.000000</td>\n",
       "      <td>172782.000000</td>\n",
       "    </tr>\n",
       "    <tr>\n",
       "      <th>mean</th>\n",
       "      <td>12.244835</td>\n",
       "      <td>3.793566</td>\n",
       "      <td>15274.819941</td>\n",
       "    </tr>\n",
       "    <tr>\n",
       "      <th>std</th>\n",
       "      <td>257.898235</td>\n",
       "      <td>101.069930</td>\n",
       "      <td>1725.093177</td>\n",
       "    </tr>\n",
       "    <tr>\n",
       "      <th>min</th>\n",
       "      <td>-74215.000000</td>\n",
       "      <td>0.000000</td>\n",
       "      <td>12346.000000</td>\n",
       "    </tr>\n",
       "    <tr>\n",
       "      <th>25%</th>\n",
       "      <td>2.000000</td>\n",
       "      <td>1.250000</td>\n",
       "      <td>13842.000000</td>\n",
       "    </tr>\n",
       "    <tr>\n",
       "      <th>50%</th>\n",
       "      <td>5.000000</td>\n",
       "      <td>1.950000</td>\n",
       "      <td>15132.000000</td>\n",
       "    </tr>\n",
       "    <tr>\n",
       "      <th>75%</th>\n",
       "      <td>12.000000</td>\n",
       "      <td>3.750000</td>\n",
       "      <td>16814.000000</td>\n",
       "    </tr>\n",
       "    <tr>\n",
       "      <th>max</th>\n",
       "      <td>74215.000000</td>\n",
       "      <td>38970.000000</td>\n",
       "      <td>18287.000000</td>\n",
       "    </tr>\n",
       "  </tbody>\n",
       "</table>\n",
       "</div>"
      ],
      "text/plain": [
       "            Quantity      UnitPrice     CustomerID\n",
       "count  172782.000000  172782.000000  172782.000000\n",
       "mean       12.244835       3.793566   15274.819941\n",
       "std       257.898235     101.069930    1725.093177\n",
       "min    -74215.000000       0.000000   12346.000000\n",
       "25%         2.000000       1.250000   13842.000000\n",
       "50%         5.000000       1.950000   15132.000000\n",
       "75%        12.000000       3.750000   16814.000000\n",
       "max     74215.000000   38970.000000   18287.000000"
      ]
     },
     "execution_count": 66,
     "metadata": {},
     "output_type": "execute_result"
    }
   ],
   "source": [
    "df.describe()"
   ]
  },
  {
   "cell_type": "code",
   "execution_count": 79,
   "id": "8f54a3a8",
   "metadata": {},
   "outputs": [],
   "source": [
    "dropval=df[df['Quantity'] < 0].index\n",
    "df.drop(dropval,inplace=True)"
   ]
  },
  {
   "cell_type": "code",
   "execution_count": 80,
   "id": "e9ffcbb4",
   "metadata": {},
   "outputs": [
    {
     "data": {
      "text/html": [
       "<div>\n",
       "<style scoped>\n",
       "    .dataframe tbody tr th:only-of-type {\n",
       "        vertical-align: middle;\n",
       "    }\n",
       "\n",
       "    .dataframe tbody tr th {\n",
       "        vertical-align: top;\n",
       "    }\n",
       "\n",
       "    .dataframe thead th {\n",
       "        text-align: right;\n",
       "    }\n",
       "</style>\n",
       "<table border=\"1\" class=\"dataframe\">\n",
       "  <thead>\n",
       "    <tr style=\"text-align: right;\">\n",
       "      <th></th>\n",
       "      <th>InvoiceNo</th>\n",
       "      <th>StockCode</th>\n",
       "      <th>Description</th>\n",
       "      <th>Quantity</th>\n",
       "      <th>InvoiceDate</th>\n",
       "      <th>UnitPrice</th>\n",
       "      <th>CustomerID</th>\n",
       "      <th>Country</th>\n",
       "    </tr>\n",
       "  </thead>\n",
       "  <tbody>\n",
       "    <tr>\n",
       "      <th>0</th>\n",
       "      <td>536365</td>\n",
       "      <td>85123A</td>\n",
       "      <td>WHITE HANGING HEART T-LIGHT HOLDER</td>\n",
       "      <td>6</td>\n",
       "      <td>12/1/10 8:26</td>\n",
       "      <td>2.55</td>\n",
       "      <td>17850.0</td>\n",
       "      <td>United Kingdom</td>\n",
       "    </tr>\n",
       "    <tr>\n",
       "      <th>1</th>\n",
       "      <td>536365</td>\n",
       "      <td>71053</td>\n",
       "      <td>WHITE METAL LANTERN</td>\n",
       "      <td>6</td>\n",
       "      <td>12/1/10 8:26</td>\n",
       "      <td>3.39</td>\n",
       "      <td>17850.0</td>\n",
       "      <td>United Kingdom</td>\n",
       "    </tr>\n",
       "    <tr>\n",
       "      <th>2</th>\n",
       "      <td>536365</td>\n",
       "      <td>84406B</td>\n",
       "      <td>CREAM CUPID HEARTS COAT HANGER</td>\n",
       "      <td>8</td>\n",
       "      <td>12/1/10 8:26</td>\n",
       "      <td>2.75</td>\n",
       "      <td>17850.0</td>\n",
       "      <td>United Kingdom</td>\n",
       "    </tr>\n",
       "    <tr>\n",
       "      <th>3</th>\n",
       "      <td>536365</td>\n",
       "      <td>84029G</td>\n",
       "      <td>KNITTED UNION FLAG HOT WATER BOTTLE</td>\n",
       "      <td>6</td>\n",
       "      <td>12/1/10 8:26</td>\n",
       "      <td>3.39</td>\n",
       "      <td>17850.0</td>\n",
       "      <td>United Kingdom</td>\n",
       "    </tr>\n",
       "    <tr>\n",
       "      <th>4</th>\n",
       "      <td>536365</td>\n",
       "      <td>84029E</td>\n",
       "      <td>RED WOOLLY HOTTIE WHITE HEART.</td>\n",
       "      <td>6</td>\n",
       "      <td>12/1/10 8:26</td>\n",
       "      <td>3.39</td>\n",
       "      <td>17850.0</td>\n",
       "      <td>United Kingdom</td>\n",
       "    </tr>\n",
       "    <tr>\n",
       "      <th>...</th>\n",
       "      <td>...</td>\n",
       "      <td>...</td>\n",
       "      <td>...</td>\n",
       "      <td>...</td>\n",
       "      <td>...</td>\n",
       "      <td>...</td>\n",
       "      <td>...</td>\n",
       "      <td>...</td>\n",
       "    </tr>\n",
       "    <tr>\n",
       "      <th>240002</th>\n",
       "      <td>558077</td>\n",
       "      <td>47590A</td>\n",
       "      <td>BLUE HAPPY BIRTHDAY BUNTING</td>\n",
       "      <td>12</td>\n",
       "      <td>6/26/11 10:59</td>\n",
       "      <td>5.45</td>\n",
       "      <td>13408.0</td>\n",
       "      <td>United Kingdom</td>\n",
       "    </tr>\n",
       "    <tr>\n",
       "      <th>240003</th>\n",
       "      <td>558077</td>\n",
       "      <td>82600</td>\n",
       "      <td>NO SINGING METAL SIGN</td>\n",
       "      <td>12</td>\n",
       "      <td>6/26/11 10:59</td>\n",
       "      <td>2.10</td>\n",
       "      <td>13408.0</td>\n",
       "      <td>United Kingdom</td>\n",
       "    </tr>\n",
       "    <tr>\n",
       "      <th>240004</th>\n",
       "      <td>558077</td>\n",
       "      <td>85123A</td>\n",
       "      <td>WHITE HANGING HEART T-LIGHT HOLDER</td>\n",
       "      <td>32</td>\n",
       "      <td>6/26/11 10:59</td>\n",
       "      <td>2.55</td>\n",
       "      <td>13408.0</td>\n",
       "      <td>United Kingdom</td>\n",
       "    </tr>\n",
       "    <tr>\n",
       "      <th>240005</th>\n",
       "      <td>558077</td>\n",
       "      <td>22746</td>\n",
       "      <td>POPPY'S PLAYHOUSE LIVINGROOM</td>\n",
       "      <td>12</td>\n",
       "      <td>6/26/11 10:59</td>\n",
       "      <td>2.10</td>\n",
       "      <td>13408.0</td>\n",
       "      <td>United Kingdom</td>\n",
       "    </tr>\n",
       "    <tr>\n",
       "      <th>240006</th>\n",
       "      <td>558077</td>\n",
       "      <td>23251</td>\n",
       "      <td>VINTAGE RED ENAMEL TRIM MUG</td>\n",
       "      <td>12</td>\n",
       "      <td>6/26/11 10:59</td>\n",
       "      <td>1.25</td>\n",
       "      <td>13408.0</td>\n",
       "      <td>Unit</td>\n",
       "    </tr>\n",
       "  </tbody>\n",
       "</table>\n",
       "<p>168675 rows × 8 columns</p>\n",
       "</div>"
      ],
      "text/plain": [
       "       InvoiceNo StockCode                          Description  Quantity  \\\n",
       "0         536365    85123A   WHITE HANGING HEART T-LIGHT HOLDER         6   \n",
       "1         536365     71053                  WHITE METAL LANTERN         6   \n",
       "2         536365    84406B       CREAM CUPID HEARTS COAT HANGER         8   \n",
       "3         536365    84029G  KNITTED UNION FLAG HOT WATER BOTTLE         6   \n",
       "4         536365    84029E       RED WOOLLY HOTTIE WHITE HEART.         6   \n",
       "...          ...       ...                                  ...       ...   \n",
       "240002    558077    47590A          BLUE HAPPY BIRTHDAY BUNTING        12   \n",
       "240003    558077     82600                NO SINGING METAL SIGN        12   \n",
       "240004    558077    85123A   WHITE HANGING HEART T-LIGHT HOLDER        32   \n",
       "240005    558077     22746        POPPY'S PLAYHOUSE LIVINGROOM         12   \n",
       "240006    558077     23251         VINTAGE RED ENAMEL TRIM MUG         12   \n",
       "\n",
       "          InvoiceDate  UnitPrice  CustomerID         Country  \n",
       "0        12/1/10 8:26       2.55     17850.0  United Kingdom  \n",
       "1        12/1/10 8:26       3.39     17850.0  United Kingdom  \n",
       "2        12/1/10 8:26       2.75     17850.0  United Kingdom  \n",
       "3        12/1/10 8:26       3.39     17850.0  United Kingdom  \n",
       "4        12/1/10 8:26       3.39     17850.0  United Kingdom  \n",
       "...               ...        ...         ...             ...  \n",
       "240002  6/26/11 10:59       5.45     13408.0  United Kingdom  \n",
       "240003  6/26/11 10:59       2.10     13408.0  United Kingdom  \n",
       "240004  6/26/11 10:59       2.55     13408.0  United Kingdom  \n",
       "240005  6/26/11 10:59       2.10     13408.0  United Kingdom  \n",
       "240006  6/26/11 10:59       1.25     13408.0            Unit  \n",
       "\n",
       "[168675 rows x 8 columns]"
      ]
     },
     "execution_count": 80,
     "metadata": {},
     "output_type": "execute_result"
    }
   ],
   "source": [
    "df"
   ]
  },
  {
   "cell_type": "code",
   "execution_count": 84,
   "id": "39a79d51",
   "metadata": {},
   "outputs": [
    {
     "data": {
      "text/plain": [
       "array(['United Kingdom', 'France', 'Australia', 'Netherlands', 'Germany',\n",
       "       'Norway', 'EIRE', 'Switzerland', 'Spain', 'Poland', 'Portugal',\n",
       "       'Italy', 'Belgium', 'Lithuania', 'Japan', 'Iceland',\n",
       "       'Channel Islands', 'Denmark', 'Cyprus', 'Sweden', 'Finland',\n",
       "       'Austria', 'Greece', 'Singapore', 'Lebanon',\n",
       "       'United Arab Emirates', 'Israel', 'Saudi Arabia', 'Czech Republic',\n",
       "       'Canada', 'Unspecified', 'Brazil', 'USA', 'European Community',\n",
       "       'Bahrain', 'Malta', 'Unit'], dtype=object)"
      ]
     },
     "execution_count": 84,
     "metadata": {},
     "output_type": "execute_result"
    }
   ],
   "source": [
    "df['Country'].unique()"
   ]
  },
  {
   "cell_type": "code",
   "execution_count": 82,
   "id": "ea890bb8",
   "metadata": {},
   "outputs": [
    {
     "data": {
      "text/plain": [
       "37"
      ]
     },
     "execution_count": 82,
     "metadata": {},
     "output_type": "execute_result"
    }
   ],
   "source": [
    "df['Country'].nunique()"
   ]
  },
  {
   "cell_type": "code",
   "execution_count": 85,
   "id": "ee928249",
   "metadata": {},
   "outputs": [
    {
     "name": "stdout",
     "output_type": "stream",
     "text": [
      "United Kingdom          150046\n",
      "Germany                   3958\n",
      "France                    3562\n",
      "EIRE                      2650\n",
      "Netherlands               1139\n",
      "Spain                     1131\n",
      "Belgium                    914\n",
      "Switzerland                697\n",
      "Australia                  630\n",
      "Portugal                   610\n",
      "Norway                     368\n",
      "Channel Islands            363\n",
      "Cyprus                     350\n",
      "Finland                    307\n",
      "Italy                      299\n",
      "Japan                      230\n",
      "Sweden                     195\n",
      "Denmark                    184\n",
      "Poland                     180\n",
      "Austria                    124\n",
      "Singapore                  113\n",
      "Iceland                    102\n",
      "Greece                      85\n",
      "Unspecified                 72\n",
      "Canada                      68\n",
      "Lebanon                     45\n",
      "Malta                       45\n",
      "Lithuania                   35\n",
      "Brazil                      32\n",
      "European Community          31\n",
      "United Arab Emirates        30\n",
      "USA                         22\n",
      "Bahrain                     17\n",
      "Israel                      16\n",
      "Czech Republic              15\n",
      "Saudi Arabia                 9\n",
      "Unit                         1\n",
      "Name: Country, dtype: int64\n"
     ]
    }
   ],
   "source": [
    "item_counts = df[\"Country\"].value_counts()\n",
    "print(item_counts)"
   ]
  },
  {
   "cell_type": "markdown",
   "id": "d039c4a7",
   "metadata": {},
   "source": [
    "This shows that United Kingdom has highest number of instances/rows"
   ]
  },
  {
   "cell_type": "code",
   "execution_count": 88,
   "id": "d0a0d4f1",
   "metadata": {},
   "outputs": [],
   "source": [
    "df[\"Sales\"] = df[\"Quantity\"] * df[\"UnitPrice\"]"
   ]
  },
  {
   "cell_type": "code",
   "execution_count": 89,
   "id": "2d5b7555",
   "metadata": {},
   "outputs": [
    {
     "data": {
      "text/html": [
       "<div>\n",
       "<style scoped>\n",
       "    .dataframe tbody tr th:only-of-type {\n",
       "        vertical-align: middle;\n",
       "    }\n",
       "\n",
       "    .dataframe tbody tr th {\n",
       "        vertical-align: top;\n",
       "    }\n",
       "\n",
       "    .dataframe thead th {\n",
       "        text-align: right;\n",
       "    }\n",
       "</style>\n",
       "<table border=\"1\" class=\"dataframe\">\n",
       "  <thead>\n",
       "    <tr style=\"text-align: right;\">\n",
       "      <th></th>\n",
       "      <th>InvoiceNo</th>\n",
       "      <th>StockCode</th>\n",
       "      <th>Description</th>\n",
       "      <th>Quantity</th>\n",
       "      <th>InvoiceDate</th>\n",
       "      <th>UnitPrice</th>\n",
       "      <th>CustomerID</th>\n",
       "      <th>Country</th>\n",
       "      <th>Sales</th>\n",
       "    </tr>\n",
       "  </thead>\n",
       "  <tbody>\n",
       "    <tr>\n",
       "      <th>0</th>\n",
       "      <td>536365</td>\n",
       "      <td>85123A</td>\n",
       "      <td>WHITE HANGING HEART T-LIGHT HOLDER</td>\n",
       "      <td>6</td>\n",
       "      <td>12/1/10 8:26</td>\n",
       "      <td>2.55</td>\n",
       "      <td>17850.0</td>\n",
       "      <td>United Kingdom</td>\n",
       "      <td>15.30</td>\n",
       "    </tr>\n",
       "    <tr>\n",
       "      <th>1</th>\n",
       "      <td>536365</td>\n",
       "      <td>71053</td>\n",
       "      <td>WHITE METAL LANTERN</td>\n",
       "      <td>6</td>\n",
       "      <td>12/1/10 8:26</td>\n",
       "      <td>3.39</td>\n",
       "      <td>17850.0</td>\n",
       "      <td>United Kingdom</td>\n",
       "      <td>20.34</td>\n",
       "    </tr>\n",
       "    <tr>\n",
       "      <th>2</th>\n",
       "      <td>536365</td>\n",
       "      <td>84406B</td>\n",
       "      <td>CREAM CUPID HEARTS COAT HANGER</td>\n",
       "      <td>8</td>\n",
       "      <td>12/1/10 8:26</td>\n",
       "      <td>2.75</td>\n",
       "      <td>17850.0</td>\n",
       "      <td>United Kingdom</td>\n",
       "      <td>22.00</td>\n",
       "    </tr>\n",
       "    <tr>\n",
       "      <th>3</th>\n",
       "      <td>536365</td>\n",
       "      <td>84029G</td>\n",
       "      <td>KNITTED UNION FLAG HOT WATER BOTTLE</td>\n",
       "      <td>6</td>\n",
       "      <td>12/1/10 8:26</td>\n",
       "      <td>3.39</td>\n",
       "      <td>17850.0</td>\n",
       "      <td>United Kingdom</td>\n",
       "      <td>20.34</td>\n",
       "    </tr>\n",
       "    <tr>\n",
       "      <th>4</th>\n",
       "      <td>536365</td>\n",
       "      <td>84029E</td>\n",
       "      <td>RED WOOLLY HOTTIE WHITE HEART.</td>\n",
       "      <td>6</td>\n",
       "      <td>12/1/10 8:26</td>\n",
       "      <td>3.39</td>\n",
       "      <td>17850.0</td>\n",
       "      <td>United Kingdom</td>\n",
       "      <td>20.34</td>\n",
       "    </tr>\n",
       "  </tbody>\n",
       "</table>\n",
       "</div>"
      ],
      "text/plain": [
       "  InvoiceNo StockCode                          Description  Quantity  \\\n",
       "0    536365    85123A   WHITE HANGING HEART T-LIGHT HOLDER         6   \n",
       "1    536365     71053                  WHITE METAL LANTERN         6   \n",
       "2    536365    84406B       CREAM CUPID HEARTS COAT HANGER         8   \n",
       "3    536365    84029G  KNITTED UNION FLAG HOT WATER BOTTLE         6   \n",
       "4    536365    84029E       RED WOOLLY HOTTIE WHITE HEART.         6   \n",
       "\n",
       "    InvoiceDate  UnitPrice  CustomerID         Country  Sales  \n",
       "0  12/1/10 8:26       2.55     17850.0  United Kingdom  15.30  \n",
       "1  12/1/10 8:26       3.39     17850.0  United Kingdom  20.34  \n",
       "2  12/1/10 8:26       2.75     17850.0  United Kingdom  22.00  \n",
       "3  12/1/10 8:26       3.39     17850.0  United Kingdom  20.34  \n",
       "4  12/1/10 8:26       3.39     17850.0  United Kingdom  20.34  "
      ]
     },
     "execution_count": 89,
     "metadata": {},
     "output_type": "execute_result"
    }
   ],
   "source": [
    "df.head()"
   ]
  },
  {
   "cell_type": "code",
   "execution_count": 90,
   "id": "2088bae6",
   "metadata": {},
   "outputs": [
    {
     "data": {
      "text/plain": [
       "23.05600557877644"
      ]
     },
     "execution_count": 90,
     "metadata": {},
     "output_type": "execute_result"
    }
   ],
   "source": [
    "df[\"Sales\"].mean()"
   ]
  },
  {
   "cell_type": "code",
   "execution_count": 92,
   "id": "8b70826c",
   "metadata": {},
   "outputs": [
    {
     "data": {
      "text/plain": [
       "168675"
      ]
     },
     "execution_count": 92,
     "metadata": {},
     "output_type": "execute_result"
    }
   ],
   "source": [
    "df[\"Sales\"].count()"
   ]
  },
  {
   "cell_type": "code",
   "execution_count": 103,
   "id": "18b839fe",
   "metadata": {},
   "outputs": [
    {
     "data": {
      "text/plain": [
       "Country\n",
       "United Kingdom    3167696.671\n",
       "Netherlands        125816.110\n",
       "Germany            106223.190\n",
       "EIRE               101406.060\n",
       "France              89349.880\n",
       "Name: Sales, dtype: float64"
      ]
     },
     "execution_count": 103,
     "metadata": {},
     "output_type": "execute_result"
    }
   ],
   "source": [
    "df.groupby('Country')['Sales'].sum().nlargest(5) #considering size of sales"
   ]
  },
  {
   "cell_type": "code",
   "execution_count": 104,
   "id": "27bd3ee2",
   "metadata": {},
   "outputs": [
    {
     "data": {
      "text/plain": [
       "Country\n",
       "Australia      126.677444\n",
       "Netherlands    110.461905\n",
       "Japan          100.181609\n",
       "Singapore       90.819912\n",
       "Sweden          86.532205\n",
       "Name: Sales, dtype: float64"
      ]
     },
     "execution_count": 104,
     "metadata": {},
     "output_type": "execute_result"
    }
   ],
   "source": [
    "df.groupby('Country')['Sales'].mean().nlargest(5) #considering mean of the sales"
   ]
  },
  {
   "cell_type": "code",
   "execution_count": 111,
   "id": "a6cbb810",
   "metadata": {},
   "outputs": [
    {
     "data": {
      "text/plain": [
       "StockCode\n",
       "22423     84734.20\n",
       "23166     78499.90\n",
       "85123A    58904.07\n",
       "22502     47167.85\n",
       "47566     40513.85\n",
       "Name: Sales, dtype: float64"
      ]
     },
     "execution_count": 111,
     "metadata": {},
     "output_type": "execute_result"
    }
   ],
   "source": [
    "df.groupby('StockCode')['Sales'].sum().nlargest(5)"
   ]
  },
  {
   "cell_type": "code",
   "execution_count": 112,
   "id": "b23d42f2",
   "metadata": {},
   "outputs": [],
   "source": [
    "df['InvoiceDate'] = pd.to_datetime(df['InvoiceDate'])"
   ]
  },
  {
   "cell_type": "code",
   "execution_count": 113,
   "id": "500e8342",
   "metadata": {},
   "outputs": [
    {
     "data": {
      "text/html": [
       "<div>\n",
       "<style scoped>\n",
       "    .dataframe tbody tr th:only-of-type {\n",
       "        vertical-align: middle;\n",
       "    }\n",
       "\n",
       "    .dataframe tbody tr th {\n",
       "        vertical-align: top;\n",
       "    }\n",
       "\n",
       "    .dataframe thead th {\n",
       "        text-align: right;\n",
       "    }\n",
       "</style>\n",
       "<table border=\"1\" class=\"dataframe\">\n",
       "  <thead>\n",
       "    <tr style=\"text-align: right;\">\n",
       "      <th></th>\n",
       "      <th>InvoiceNo</th>\n",
       "      <th>StockCode</th>\n",
       "      <th>Description</th>\n",
       "      <th>Quantity</th>\n",
       "      <th>InvoiceDate</th>\n",
       "      <th>UnitPrice</th>\n",
       "      <th>CustomerID</th>\n",
       "      <th>Country</th>\n",
       "      <th>Sales</th>\n",
       "    </tr>\n",
       "  </thead>\n",
       "  <tbody>\n",
       "    <tr>\n",
       "      <th>0</th>\n",
       "      <td>536365</td>\n",
       "      <td>85123A</td>\n",
       "      <td>WHITE HANGING HEART T-LIGHT HOLDER</td>\n",
       "      <td>6</td>\n",
       "      <td>2010-12-01 08:26:00</td>\n",
       "      <td>2.55</td>\n",
       "      <td>17850.0</td>\n",
       "      <td>United Kingdom</td>\n",
       "      <td>15.30</td>\n",
       "    </tr>\n",
       "    <tr>\n",
       "      <th>1</th>\n",
       "      <td>536365</td>\n",
       "      <td>71053</td>\n",
       "      <td>WHITE METAL LANTERN</td>\n",
       "      <td>6</td>\n",
       "      <td>2010-12-01 08:26:00</td>\n",
       "      <td>3.39</td>\n",
       "      <td>17850.0</td>\n",
       "      <td>United Kingdom</td>\n",
       "      <td>20.34</td>\n",
       "    </tr>\n",
       "    <tr>\n",
       "      <th>2</th>\n",
       "      <td>536365</td>\n",
       "      <td>84406B</td>\n",
       "      <td>CREAM CUPID HEARTS COAT HANGER</td>\n",
       "      <td>8</td>\n",
       "      <td>2010-12-01 08:26:00</td>\n",
       "      <td>2.75</td>\n",
       "      <td>17850.0</td>\n",
       "      <td>United Kingdom</td>\n",
       "      <td>22.00</td>\n",
       "    </tr>\n",
       "    <tr>\n",
       "      <th>3</th>\n",
       "      <td>536365</td>\n",
       "      <td>84029G</td>\n",
       "      <td>KNITTED UNION FLAG HOT WATER BOTTLE</td>\n",
       "      <td>6</td>\n",
       "      <td>2010-12-01 08:26:00</td>\n",
       "      <td>3.39</td>\n",
       "      <td>17850.0</td>\n",
       "      <td>United Kingdom</td>\n",
       "      <td>20.34</td>\n",
       "    </tr>\n",
       "    <tr>\n",
       "      <th>4</th>\n",
       "      <td>536365</td>\n",
       "      <td>84029E</td>\n",
       "      <td>RED WOOLLY HOTTIE WHITE HEART.</td>\n",
       "      <td>6</td>\n",
       "      <td>2010-12-01 08:26:00</td>\n",
       "      <td>3.39</td>\n",
       "      <td>17850.0</td>\n",
       "      <td>United Kingdom</td>\n",
       "      <td>20.34</td>\n",
       "    </tr>\n",
       "  </tbody>\n",
       "</table>\n",
       "</div>"
      ],
      "text/plain": [
       "  InvoiceNo StockCode                          Description  Quantity  \\\n",
       "0    536365    85123A   WHITE HANGING HEART T-LIGHT HOLDER         6   \n",
       "1    536365     71053                  WHITE METAL LANTERN         6   \n",
       "2    536365    84406B       CREAM CUPID HEARTS COAT HANGER         8   \n",
       "3    536365    84029G  KNITTED UNION FLAG HOT WATER BOTTLE         6   \n",
       "4    536365    84029E       RED WOOLLY HOTTIE WHITE HEART.         6   \n",
       "\n",
       "          InvoiceDate  UnitPrice  CustomerID         Country  Sales  \n",
       "0 2010-12-01 08:26:00       2.55     17850.0  United Kingdom  15.30  \n",
       "1 2010-12-01 08:26:00       3.39     17850.0  United Kingdom  20.34  \n",
       "2 2010-12-01 08:26:00       2.75     17850.0  United Kingdom  22.00  \n",
       "3 2010-12-01 08:26:00       3.39     17850.0  United Kingdom  20.34  \n",
       "4 2010-12-01 08:26:00       3.39     17850.0  United Kingdom  20.34  "
      ]
     },
     "execution_count": 113,
     "metadata": {},
     "output_type": "execute_result"
    }
   ],
   "source": [
    "df.head()"
   ]
  },
  {
   "cell_type": "code",
   "execution_count": 124,
   "id": "1242e8fd",
   "metadata": {},
   "outputs": [],
   "source": [
    "monthly_sales = df.groupby(df['InvoiceDate'].dt.month)['Sales'].sum()"
   ]
  },
  {
   "cell_type": "code",
   "execution_count": 125,
   "id": "e8ca3ee1",
   "metadata": {},
   "outputs": [],
   "source": [
    "max_month = monthly_sales.idxmax()"
   ]
  },
  {
   "cell_type": "code",
   "execution_count": 126,
   "id": "10ae31d9",
   "metadata": {},
   "outputs": [
    {
     "data": {
      "text/plain": [
       "5"
      ]
     },
     "execution_count": 126,
     "metadata": {},
     "output_type": "execute_result"
    }
   ],
   "source": [
    "max_month"
   ]
  },
  {
   "cell_type": "markdown",
   "id": "27694176",
   "metadata": {},
   "source": [
    "May is the month where maximum sales occur"
   ]
  },
  {
   "cell_type": "code",
   "execution_count": null,
   "id": "37fa6d2a",
   "metadata": {},
   "outputs": [],
   "source": []
  }
 ],
 "metadata": {
  "kernelspec": {
   "display_name": "Python 3 (ipykernel)",
   "language": "python",
   "name": "python3"
  },
  "language_info": {
   "codemirror_mode": {
    "name": "ipython",
    "version": 3
   },
   "file_extension": ".py",
   "mimetype": "text/x-python",
   "name": "python",
   "nbconvert_exporter": "python",
   "pygments_lexer": "ipython3",
   "version": "3.9.13"
  }
 },
 "nbformat": 4,
 "nbformat_minor": 5
}
